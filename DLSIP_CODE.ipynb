{
  "nbformat": 4,
  "nbformat_minor": 0,
  "metadata": {
    "colab": {
      "name": "DLSIP CODE TEAM AMIGOS.ipynb",
      "provenance": [],
      "collapsed_sections": []
    },
    "kernelspec": {
      "name": "python3",
      "display_name": "Python 3"
    },
    "language_info": {
      "name": "python"
    },
    "accelerator": "GPU"
  },
  "cells": [
    {
      "cell_type": "code",
      "source": [
        "from google.colab import drive\n",
        "drive.mount('/content/drive')"
      ],
      "metadata": {
        "colab": {
          "base_uri": "https://localhost:8080/"
        },
        "id": "ju1PuTSXqZYH",
        "outputId": "3f3d8c5d-10c0-4506-b60c-5f7591fcaa4f"
      },
      "execution_count": null,
      "outputs": [
        {
          "output_type": "stream",
          "name": "stdout",
          "text": [
            "Mounted at /content/drive\n"
          ]
        }
      ]
    },
    {
      "cell_type": "code",
      "source": [
        "!pip install keras_vggface\n",
        "!pip install keras_applications\n",
        "!pip install PyYAML"
      ],
      "metadata": {
        "colab": {
          "base_uri": "https://localhost:8080/"
        },
        "id": "HG7Pkyi-w27B",
        "outputId": "86425679-9a97-4ae2-8ffd-f301662cafdf"
      },
      "execution_count": null,
      "outputs": [
        {
          "output_type": "stream",
          "name": "stdout",
          "text": [
            "Looking in indexes: https://pypi.org/simple, https://us-python.pkg.dev/colab-wheels/public/simple/\n",
            "Collecting keras_vggface\n",
            "  Downloading keras_vggface-0.6-py3-none-any.whl (8.3 kB)\n",
            "Requirement already satisfied: keras in /usr/local/lib/python3.7/dist-packages (from keras_vggface) (2.8.0)\n",
            "Requirement already satisfied: pillow in /usr/local/lib/python3.7/dist-packages (from keras_vggface) (7.1.2)\n",
            "Requirement already satisfied: six>=1.9.0 in /usr/local/lib/python3.7/dist-packages (from keras_vggface) (1.15.0)\n",
            "Requirement already satisfied: pyyaml in /usr/local/lib/python3.7/dist-packages (from keras_vggface) (3.13)\n",
            "Requirement already satisfied: h5py in /usr/local/lib/python3.7/dist-packages (from keras_vggface) (3.1.0)\n",
            "Requirement already satisfied: numpy>=1.9.1 in /usr/local/lib/python3.7/dist-packages (from keras_vggface) (1.21.6)\n",
            "Requirement already satisfied: scipy>=0.14 in /usr/local/lib/python3.7/dist-packages (from keras_vggface) (1.4.1)\n",
            "Requirement already satisfied: cached-property in /usr/local/lib/python3.7/dist-packages (from h5py->keras_vggface) (1.5.2)\n",
            "Installing collected packages: keras-vggface\n",
            "Successfully installed keras-vggface-0.6\n",
            "Looking in indexes: https://pypi.org/simple, https://us-python.pkg.dev/colab-wheels/public/simple/\n",
            "Collecting keras_applications\n",
            "  Downloading Keras_Applications-1.0.8-py3-none-any.whl (50 kB)\n",
            "\u001b[K     |████████████████████████████████| 50 kB 4.3 MB/s \n",
            "\u001b[?25hRequirement already satisfied: numpy>=1.9.1 in /usr/local/lib/python3.7/dist-packages (from keras_applications) (1.21.6)\n",
            "Requirement already satisfied: h5py in /usr/local/lib/python3.7/dist-packages (from keras_applications) (3.1.0)\n",
            "Requirement already satisfied: cached-property in /usr/local/lib/python3.7/dist-packages (from h5py->keras_applications) (1.5.2)\n",
            "Installing collected packages: keras-applications\n",
            "Successfully installed keras-applications-1.0.8\n",
            "Looking in indexes: https://pypi.org/simple, https://us-python.pkg.dev/colab-wheels/public/simple/\n",
            "Requirement already satisfied: PyYAML in /usr/local/lib/python3.7/dist-packages (3.13)\n"
          ]
        }
      ]
    },
    {
      "cell_type": "code",
      "source": [
        "from PIL import Image\n",
        "#from keras_vggface.utils import preprocess_input\n",
        "#from keras.utils.layer_utils import get_source_inputs\n",
        "from keras_vggface.vggface import VGGFace\n",
        "import numpy as np\n",
        "import cv2\n",
        "import os\n",
        "from scipy import spatial\n",
        "import tensorflow as tf\n"
      ],
      "metadata": {
        "id": "We4PBGMEt8R3"
      },
      "execution_count": null,
      "outputs": []
    },
    {
      "cell_type": "code",
      "source": [
        "from keras.models import Sequential\n",
        "from keras.layers import Dense"
      ],
      "metadata": {
        "id": "2IzQxbsid2OL"
      },
      "execution_count": null,
      "outputs": []
    },
    {
      "cell_type": "code",
      "source": [
        "import csv\n",
        "import pandas as pd\n",
        "import keras"
      ],
      "metadata": {
        "id": "GMhLtjFLrHv1"
      },
      "execution_count": null,
      "outputs": []
    },
    {
      "cell_type": "code",
      "source": [
        "BASE_MODEL = 'vgg16'\n",
        "include_top = 'False'\n",
        "pooling = 'avg'\n",
        "\n",
        "model=VGGFace(model=BASE_MODEL,include_top=include_top,weights='vggface',input_shape=(224,224,3),pooling=pooling)\n",
        "print(model)"
      ],
      "metadata": {
        "id": "8fUK7WUIuwqY",
        "colab": {
          "base_uri": "https://localhost:8080/"
        },
        "outputId": "2c0e35cd-d75f-4c63-8c0f-d2b2de580392"
      },
      "execution_count": null,
      "outputs": [
        {
          "output_type": "stream",
          "name": "stdout",
          "text": [
            "Downloading data from https://github.com/rcmalli/keras-vggface/releases/download/v2.0/rcmalli_vggface_tf_vgg16.h5\n",
            "580075520/580070376 [==============================] - 19s 0us/step\n",
            "580083712/580070376 [==============================] - 19s 0us/step\n",
            "<keras.engine.functional.Functional object at 0x7f5e767d8d90>\n"
          ]
        }
      ]
    },
    {
      "cell_type": "code",
      "source": [
        "os.mkdir('reference')\n",
        "os.mkdir('faces')\n",
        "os.mkdir('faces_on_original_image')"
      ],
      "metadata": {
        "id": "9BdKDvCWaaqV"
      },
      "execution_count": null,
      "outputs": []
    },
    {
      "cell_type": "code",
      "source": [
        "import cv2\n",
        "import sys\n",
        "\n",
        "def mtcnn(file_path,reference=False):\n",
        "  image = cv2.imread(file_path)\n",
        "  gray = cv2.cvtColor(image, cv2.COLOR_BGR2GRAY)\n",
        "  faceCascade = cv2.CascadeClassifier(cv2.data.haarcascades + \"haarcascade_frontalface_default.xml\")\n",
        "  faces = faceCascade.detectMultiScale(gray,scaleFactor=1.3,minNeighbors=3,minSize=(30, 30) )\n",
        "  print(\"[INFO] Found {0} Faces.\".format(len(faces)))\n",
        "  dir='/content/faces'\n",
        "  for f in os.listdir(dir):\n",
        "    if not(f=='.ipynb_checkpoints'):\n",
        "      os.remove(os.path.join(dir, f))\n",
        "  if reference == True:\n",
        "    (x,y,w,h)=faces[0]\n",
        "    roi_color = image[y:y + h, x:x + w]\n",
        "    path='/content/reference/face_of_the_person.jpg'\n",
        "    cv2.imwrite(path, roi_color)\n",
        "    print(\"file saved at\",path)\n",
        "  else:\n",
        "    i=1\n",
        "    \n",
        "    for (x, y, w, h) in faces:\n",
        "        cv2.rectangle(image, (x, y), (x + w, y + h), (0, 255, 0), 2)\n",
        "        roi_color = image[y:y + h, x:x + w]\n",
        "        print(\"[INFO] Object found. Saving locally.\")\n",
        "        cv2.imwrite('/content/faces/detected_faces'+str(i)+'.jpg', roi_color)\n",
        "        i=i+1\n",
        "\n",
        "  status = cv2.imwrite('/content/faces_on_original_image/faces_detected.jpg', image)\n",
        "  print(\"[INFO] Image faces_detected.jpg written to filesystem: \", status)"
      ],
      "metadata": {
        "id": "oys2GN-0WgOF"
      },
      "execution_count": null,
      "outputs": []
    },
    {
      "cell_type": "code",
      "source": [
        "def get_image_embedding(saving_dir):\n",
        "  img=Image.open(saving_dir)\n",
        "  img=img.resize((224,224))\n",
        "  img_array=np.array(img).astype(np.float32)\n",
        "  #img_array = img_array.transpose((2,0,1))\n",
        "  expanded_img=np.expand_dims(img_array,axis=0)\n",
        "  result=model.predict(expanded_img)\n",
        "  return result.flatten()"
      ],
      "metadata": {
        "id": "SyNbYYB7w8TP"
      },
      "execution_count": null,
      "outputs": []
    },
    {
      "cell_type": "code",
      "source": [
        "def triplet_loss(e1,e2):\n",
        "  #finds the difference between features of the each image\n",
        "  distance=np.subtract(e1,e2)\n",
        "  #the loss is squared so that non similar values stay more apart\n",
        "  loss=np.square(distance) \n",
        "  return loss\n"
      ],
      "metadata": {
        "id": "mB5QQJOnknBd"
      },
      "execution_count": null,
      "outputs": []
    },
    {
      "cell_type": "markdown",
      "source": [
        "Fully connected layers to predict similarity\n"
      ],
      "metadata": {
        "id": "xVkU23UHeT9h"
      }
    },
    {
      "cell_type": "code",
      "source": [
        "df =pd.read_csv('/content/drive/MyDrive/dlsip_and_maths/mtcnned/studentfile.csv')\n",
        "df = df.iloc[: , 1:]\n",
        "X = df.drop(['Target'],axis=1).values   # independant features\n",
        "y = df['Target'].values\t\t"
      ],
      "metadata": {
        "id": "T6IwhrtKrNzw"
      },
      "execution_count": null,
      "outputs": []
    },
    {
      "cell_type": "code",
      "source": [
        "from sklearn.model_selection import train_test_split\n",
        "X_train, X_val_test, y_train, y_val_test = train_test_split(X, y, test_size=0.2, random_state=42)"
      ],
      "metadata": {
        "id": "x2BRNQWesqaw"
      },
      "execution_count": null,
      "outputs": []
    },
    {
      "cell_type": "code",
      "source": [
        "X_val, X_test, y_val, y_test = train_test_split(X_val_test, y_val_test, test_size=0.5)"
      ],
      "metadata": {
        "id": "5fYjDs2fvYEu"
      },
      "execution_count": null,
      "outputs": []
    },
    {
      "cell_type": "code",
      "source": [
        "df.shape"
      ],
      "metadata": {
        "colab": {
          "base_uri": "https://localhost:8080/"
        },
        "id": "9Hod9I37weZ7",
        "outputId": "928d0fc3-7692-49f9-ceb9-7a8c7dd2cac1"
      },
      "execution_count": null,
      "outputs": [
        {
          "output_type": "execute_result",
          "data": {
            "text/plain": [
              "(6394, 2623)"
            ]
          },
          "metadata": {},
          "execution_count": 16
        }
      ]
    },
    {
      "cell_type": "code",
      "source": [
        "X_train.shape"
      ],
      "metadata": {
        "colab": {
          "base_uri": "https://localhost:8080/"
        },
        "id": "EsXX1bFxs5vF",
        "outputId": "08df6d0a-1ab0-465a-f697-138c357ba6c4"
      },
      "execution_count": null,
      "outputs": [
        {
          "output_type": "execute_result",
          "data": {
            "text/plain": [
              "(5115, 2622)"
            ]
          },
          "metadata": {},
          "execution_count": 17
        }
      ]
    },
    {
      "cell_type": "code",
      "source": [
        "y_train"
      ],
      "metadata": {
        "colab": {
          "base_uri": "https://localhost:8080/"
        },
        "id": "AafZkxA8v5LD",
        "outputId": "abcb81d3-8ff5-43ce-811b-bbc428b8e6e7"
      },
      "execution_count": null,
      "outputs": [
        {
          "output_type": "execute_result",
          "data": {
            "text/plain": [
              "array([0, 0, 0, ..., 0, 0, 1])"
            ]
          },
          "metadata": {},
          "execution_count": 18
        }
      ]
    },
    {
      "cell_type": "code",
      "source": [
        "\n",
        "model_fnn = Sequential([Dense(3000, activation='relu', input_shape=(2622,)),\n",
        "  Dense(4000, activation='relu'),\n",
        "  Dense(4000, activation='relu'),\n",
        "  Dense(1, activation='sigmoid'),])\n",
        "\n"
      ],
      "metadata": {
        "id": "EsxP0lTDeF3e"
      },
      "execution_count": null,
      "outputs": []
    },
    {
      "cell_type": "code",
      "source": [
        "model_fnn.compile(optimizer='adam',\n",
        "            loss='binary_crossentropy',\n",
        "            metrics=['accuracy'])\n",
        "\n",
        "reduce_lr = keras.callbacks.ReduceLROnPlateau(monitor='val_loss', factor=0.2,\n",
        "                              patience=5, min_lr=0.001)"
      ],
      "metadata": {
        "id": "eeCpMXsY2IRx"
      },
      "execution_count": null,
      "outputs": []
    },
    {
      "cell_type": "code",
      "source": [
        "hist = model_fnn.fit(X_train, y_train,\n",
        "        batch_size=32, epochs=150,\n",
        "        validation_data=(X_test, y_test))\n"
      ],
      "metadata": {
        "colab": {
          "base_uri": "https://localhost:8080/"
        },
        "id": "Jgu1B-6xrmEq",
        "outputId": "4da904e7-9180-4dea-d999-d7a5413f321c"
      },
      "execution_count": null,
      "outputs": [
        {
          "output_type": "stream",
          "name": "stdout",
          "text": [
            "Epoch 1/150\n",
            "160/160 [==============================] - 5s 12ms/step - loss: 0.5691 - accuracy: 0.7089 - val_loss: 0.6078 - val_accuracy: 0.6672\n",
            "Epoch 2/150\n",
            "160/160 [==============================] - 2s 10ms/step - loss: 0.5497 - accuracy: 0.7138 - val_loss: 0.6112 - val_accuracy: 0.6672\n",
            "Epoch 3/150\n",
            "160/160 [==============================] - 2s 10ms/step - loss: 0.5320 - accuracy: 0.7286 - val_loss: 0.5542 - val_accuracy: 0.7016\n",
            "Epoch 4/150\n",
            "160/160 [==============================] - 2s 11ms/step - loss: 0.5049 - accuracy: 0.7458 - val_loss: 0.5391 - val_accuracy: 0.7094\n",
            "Epoch 5/150\n",
            "160/160 [==============================] - 2s 10ms/step - loss: 0.4891 - accuracy: 0.7486 - val_loss: 0.5217 - val_accuracy: 0.7297\n",
            "Epoch 6/150\n",
            "160/160 [==============================] - 2s 10ms/step - loss: 0.4612 - accuracy: 0.7674 - val_loss: 0.5044 - val_accuracy: 0.7312\n",
            "Epoch 7/150\n",
            "160/160 [==============================] - 2s 10ms/step - loss: 0.4354 - accuracy: 0.7867 - val_loss: 0.4614 - val_accuracy: 0.7641\n",
            "Epoch 8/150\n",
            "160/160 [==============================] - 2s 11ms/step - loss: 0.4043 - accuracy: 0.8072 - val_loss: 0.4456 - val_accuracy: 0.7703\n",
            "Epoch 9/150\n",
            "160/160 [==============================] - 2s 10ms/step - loss: 0.3891 - accuracy: 0.8186 - val_loss: 0.4313 - val_accuracy: 0.7969\n",
            "Epoch 10/150\n",
            "160/160 [==============================] - 2s 10ms/step - loss: 0.3548 - accuracy: 0.8338 - val_loss: 0.3950 - val_accuracy: 0.8078\n",
            "Epoch 11/150\n",
            "160/160 [==============================] - 2s 10ms/step - loss: 0.3315 - accuracy: 0.8393 - val_loss: 0.3564 - val_accuracy: 0.8375\n",
            "Epoch 12/150\n",
            "160/160 [==============================] - 2s 10ms/step - loss: 0.3119 - accuracy: 0.8512 - val_loss: 0.3657 - val_accuracy: 0.8219\n",
            "Epoch 13/150\n",
            "160/160 [==============================] - 2s 10ms/step - loss: 0.2994 - accuracy: 0.8620 - val_loss: 0.3784 - val_accuracy: 0.8094\n",
            "Epoch 14/150\n",
            "160/160 [==============================] - 2s 10ms/step - loss: 0.2855 - accuracy: 0.8686 - val_loss: 0.3649 - val_accuracy: 0.8297\n",
            "Epoch 15/150\n",
            "160/160 [==============================] - 2s 10ms/step - loss: 0.2724 - accuracy: 0.8757 - val_loss: 0.3747 - val_accuracy: 0.8234\n",
            "Epoch 16/150\n",
            "160/160 [==============================] - 2s 10ms/step - loss: 0.2492 - accuracy: 0.8848 - val_loss: 0.3756 - val_accuracy: 0.8375\n",
            "Epoch 17/150\n",
            "160/160 [==============================] - 2s 10ms/step - loss: 0.2542 - accuracy: 0.8809 - val_loss: 0.3398 - val_accuracy: 0.8500\n",
            "Epoch 18/150\n",
            "160/160 [==============================] - 2s 11ms/step - loss: 0.2513 - accuracy: 0.8839 - val_loss: 0.3632 - val_accuracy: 0.8438\n",
            "Epoch 19/150\n",
            "160/160 [==============================] - 2s 11ms/step - loss: 0.2263 - accuracy: 0.8985 - val_loss: 0.3294 - val_accuracy: 0.8516\n",
            "Epoch 20/150\n",
            "160/160 [==============================] - 2s 10ms/step - loss: 0.2231 - accuracy: 0.8938 - val_loss: 0.3150 - val_accuracy: 0.8609\n",
            "Epoch 21/150\n",
            "160/160 [==============================] - 2s 10ms/step - loss: 0.2158 - accuracy: 0.9001 - val_loss: 0.3401 - val_accuracy: 0.8594\n",
            "Epoch 22/150\n",
            "160/160 [==============================] - 2s 10ms/step - loss: 0.2026 - accuracy: 0.9079 - val_loss: 0.3488 - val_accuracy: 0.8469\n",
            "Epoch 23/150\n",
            "160/160 [==============================] - 2s 10ms/step - loss: 0.2221 - accuracy: 0.9007 - val_loss: 0.2953 - val_accuracy: 0.8781\n",
            "Epoch 24/150\n",
            "160/160 [==============================] - 2s 10ms/step - loss: 0.1862 - accuracy: 0.9181 - val_loss: 0.3146 - val_accuracy: 0.8844\n",
            "Epoch 25/150\n",
            "160/160 [==============================] - 2s 10ms/step - loss: 0.1877 - accuracy: 0.9173 - val_loss: 0.2966 - val_accuracy: 0.8719\n",
            "Epoch 26/150\n",
            "160/160 [==============================] - 2s 10ms/step - loss: 0.1867 - accuracy: 0.9196 - val_loss: 0.3871 - val_accuracy: 0.8594\n",
            "Epoch 27/150\n",
            "160/160 [==============================] - 2s 10ms/step - loss: 0.1823 - accuracy: 0.9208 - val_loss: 0.3069 - val_accuracy: 0.8766\n",
            "Epoch 28/150\n",
            "160/160 [==============================] - 2s 10ms/step - loss: 0.1843 - accuracy: 0.9202 - val_loss: 0.4382 - val_accuracy: 0.8500\n",
            "Epoch 29/150\n",
            "160/160 [==============================] - 2s 12ms/step - loss: 0.1616 - accuracy: 0.9290 - val_loss: 0.3216 - val_accuracy: 0.8703\n",
            "Epoch 30/150\n",
            "160/160 [==============================] - 2s 11ms/step - loss: 0.1572 - accuracy: 0.9322 - val_loss: 0.3623 - val_accuracy: 0.8734\n",
            "Epoch 31/150\n",
            "160/160 [==============================] - 2s 10ms/step - loss: 0.1579 - accuracy: 0.9324 - val_loss: 0.3633 - val_accuracy: 0.8547\n",
            "Epoch 32/150\n",
            "160/160 [==============================] - 2s 10ms/step - loss: 0.1527 - accuracy: 0.9326 - val_loss: 0.2784 - val_accuracy: 0.9047\n",
            "Epoch 33/150\n",
            "160/160 [==============================] - 2s 10ms/step - loss: 0.1497 - accuracy: 0.9372 - val_loss: 0.3693 - val_accuracy: 0.8797\n",
            "Epoch 34/150\n",
            "160/160 [==============================] - 2s 10ms/step - loss: 0.1546 - accuracy: 0.9339 - val_loss: 0.3331 - val_accuracy: 0.8859\n",
            "Epoch 35/150\n",
            "160/160 [==============================] - 2s 10ms/step - loss: 0.1587 - accuracy: 0.9316 - val_loss: 0.3283 - val_accuracy: 0.8719\n",
            "Epoch 36/150\n",
            "160/160 [==============================] - 2s 10ms/step - loss: 0.1508 - accuracy: 0.9349 - val_loss: 0.3393 - val_accuracy: 0.8906\n",
            "Epoch 37/150\n",
            "160/160 [==============================] - 2s 10ms/step - loss: 0.1413 - accuracy: 0.9394 - val_loss: 0.3336 - val_accuracy: 0.9016\n",
            "Epoch 38/150\n",
            "160/160 [==============================] - 2s 10ms/step - loss: 0.1553 - accuracy: 0.9367 - val_loss: 0.3196 - val_accuracy: 0.8891\n",
            "Epoch 39/150\n",
            "160/160 [==============================] - 2s 10ms/step - loss: 0.1430 - accuracy: 0.9388 - val_loss: 0.3061 - val_accuracy: 0.8781\n",
            "Epoch 40/150\n",
            "160/160 [==============================] - 2s 10ms/step - loss: 0.1297 - accuracy: 0.9413 - val_loss: 0.3645 - val_accuracy: 0.8891\n",
            "Epoch 41/150\n",
            "160/160 [==============================] - 2s 10ms/step - loss: 0.1453 - accuracy: 0.9425 - val_loss: 0.2881 - val_accuracy: 0.8906\n",
            "Epoch 42/150\n",
            "160/160 [==============================] - 2s 10ms/step - loss: 0.1283 - accuracy: 0.9462 - val_loss: 0.3231 - val_accuracy: 0.8906\n",
            "Epoch 43/150\n",
            "160/160 [==============================] - 2s 10ms/step - loss: 0.1240 - accuracy: 0.9500 - val_loss: 0.3566 - val_accuracy: 0.8875\n",
            "Epoch 44/150\n",
            "160/160 [==============================] - 2s 10ms/step - loss: 0.1163 - accuracy: 0.9537 - val_loss: 0.3562 - val_accuracy: 0.8906\n",
            "Epoch 45/150\n",
            "160/160 [==============================] - 2s 10ms/step - loss: 0.1245 - accuracy: 0.9476 - val_loss: 0.3208 - val_accuracy: 0.9016\n",
            "Epoch 46/150\n",
            "160/160 [==============================] - 2s 10ms/step - loss: 0.1343 - accuracy: 0.9412 - val_loss: 0.3676 - val_accuracy: 0.8766\n",
            "Epoch 47/150\n",
            "160/160 [==============================] - 2s 10ms/step - loss: 0.1263 - accuracy: 0.9478 - val_loss: 0.3772 - val_accuracy: 0.8891\n",
            "Epoch 48/150\n",
            "160/160 [==============================] - 2s 10ms/step - loss: 0.1252 - accuracy: 0.9488 - val_loss: 0.2612 - val_accuracy: 0.9094\n",
            "Epoch 49/150\n",
            "160/160 [==============================] - 2s 10ms/step - loss: 0.1119 - accuracy: 0.9548 - val_loss: 0.3584 - val_accuracy: 0.9000\n",
            "Epoch 50/150\n",
            "160/160 [==============================] - 2s 10ms/step - loss: 0.1174 - accuracy: 0.9527 - val_loss: 0.3488 - val_accuracy: 0.8938\n",
            "Epoch 51/150\n",
            "160/160 [==============================] - 2s 10ms/step - loss: 0.1252 - accuracy: 0.9474 - val_loss: 0.4282 - val_accuracy: 0.8203\n",
            "Epoch 52/150\n",
            "160/160 [==============================] - 2s 10ms/step - loss: 0.1319 - accuracy: 0.9439 - val_loss: 0.3393 - val_accuracy: 0.9047\n",
            "Epoch 53/150\n",
            "160/160 [==============================] - 2s 10ms/step - loss: 0.1179 - accuracy: 0.9498 - val_loss: 0.3217 - val_accuracy: 0.8953\n",
            "Epoch 54/150\n",
            "160/160 [==============================] - 2s 11ms/step - loss: 0.0989 - accuracy: 0.9560 - val_loss: 0.4650 - val_accuracy: 0.8750\n",
            "Epoch 55/150\n",
            "160/160 [==============================] - 2s 10ms/step - loss: 0.1100 - accuracy: 0.9537 - val_loss: 0.2753 - val_accuracy: 0.9000\n",
            "Epoch 56/150\n",
            "160/160 [==============================] - 2s 10ms/step - loss: 0.1230 - accuracy: 0.9482 - val_loss: 0.2995 - val_accuracy: 0.8859\n",
            "Epoch 57/150\n",
            "160/160 [==============================] - 2s 10ms/step - loss: 0.0985 - accuracy: 0.9597 - val_loss: 0.3157 - val_accuracy: 0.8984\n",
            "Epoch 58/150\n",
            "160/160 [==============================] - 2s 10ms/step - loss: 0.0982 - accuracy: 0.9611 - val_loss: 0.3350 - val_accuracy: 0.8922\n",
            "Epoch 59/150\n",
            "160/160 [==============================] - 2s 10ms/step - loss: 0.0852 - accuracy: 0.9675 - val_loss: 0.3414 - val_accuracy: 0.8984\n",
            "Epoch 60/150\n",
            "160/160 [==============================] - 2s 10ms/step - loss: 0.0908 - accuracy: 0.9627 - val_loss: 0.4129 - val_accuracy: 0.8859\n",
            "Epoch 61/150\n",
            "160/160 [==============================] - 2s 10ms/step - loss: 0.1091 - accuracy: 0.9511 - val_loss: 0.3404 - val_accuracy: 0.9016\n",
            "Epoch 62/150\n",
            "160/160 [==============================] - 2s 10ms/step - loss: 0.0867 - accuracy: 0.9652 - val_loss: 0.3638 - val_accuracy: 0.9031\n",
            "Epoch 63/150\n",
            "160/160 [==============================] - 2s 11ms/step - loss: 0.1066 - accuracy: 0.9564 - val_loss: 0.2898 - val_accuracy: 0.9031\n",
            "Epoch 64/150\n",
            "160/160 [==============================] - 2s 10ms/step - loss: 0.0871 - accuracy: 0.9632 - val_loss: 0.4264 - val_accuracy: 0.8906\n",
            "Epoch 65/150\n",
            "160/160 [==============================] - 2s 10ms/step - loss: 0.0976 - accuracy: 0.9601 - val_loss: 0.4129 - val_accuracy: 0.8875\n",
            "Epoch 66/150\n",
            "160/160 [==============================] - 2s 10ms/step - loss: 0.0862 - accuracy: 0.9648 - val_loss: 0.3787 - val_accuracy: 0.8953\n",
            "Epoch 67/150\n",
            "160/160 [==============================] - 2s 10ms/step - loss: 0.0790 - accuracy: 0.9670 - val_loss: 0.4072 - val_accuracy: 0.8938\n",
            "Epoch 68/150\n",
            "160/160 [==============================] - 2s 10ms/step - loss: 0.0972 - accuracy: 0.9609 - val_loss: 0.5206 - val_accuracy: 0.8562\n",
            "Epoch 69/150\n",
            "160/160 [==============================] - 2s 11ms/step - loss: 0.0911 - accuracy: 0.9644 - val_loss: 0.3595 - val_accuracy: 0.8938\n",
            "Epoch 70/150\n",
            "160/160 [==============================] - 2s 10ms/step - loss: 0.0859 - accuracy: 0.9677 - val_loss: 0.3531 - val_accuracy: 0.8922\n",
            "Epoch 71/150\n",
            "160/160 [==============================] - 2s 10ms/step - loss: 0.0747 - accuracy: 0.9679 - val_loss: 0.4069 - val_accuracy: 0.9016\n",
            "Epoch 72/150\n",
            "160/160 [==============================] - 2s 10ms/step - loss: 0.0765 - accuracy: 0.9687 - val_loss: 0.3729 - val_accuracy: 0.8953\n",
            "Epoch 73/150\n",
            "160/160 [==============================] - 2s 10ms/step - loss: 0.0849 - accuracy: 0.9654 - val_loss: 0.4308 - val_accuracy: 0.8922\n",
            "Epoch 74/150\n",
            "160/160 [==============================] - 2s 10ms/step - loss: 0.0795 - accuracy: 0.9670 - val_loss: 0.3841 - val_accuracy: 0.8906\n",
            "Epoch 75/150\n",
            "160/160 [==============================] - 2s 10ms/step - loss: 0.0919 - accuracy: 0.9601 - val_loss: 0.3831 - val_accuracy: 0.8766\n",
            "Epoch 76/150\n",
            "160/160 [==============================] - 2s 10ms/step - loss: 0.0813 - accuracy: 0.9666 - val_loss: 0.3748 - val_accuracy: 0.8687\n",
            "Epoch 77/150\n",
            "160/160 [==============================] - 2s 10ms/step - loss: 0.0771 - accuracy: 0.9701 - val_loss: 0.4000 - val_accuracy: 0.8984\n",
            "Epoch 78/150\n",
            "160/160 [==============================] - 2s 10ms/step - loss: 0.0788 - accuracy: 0.9679 - val_loss: 0.3962 - val_accuracy: 0.8672\n",
            "Epoch 79/150\n",
            "160/160 [==============================] - 2s 10ms/step - loss: 0.0753 - accuracy: 0.9687 - val_loss: 0.4463 - val_accuracy: 0.8859\n",
            "Epoch 80/150\n",
            "160/160 [==============================] - 2s 10ms/step - loss: 0.0726 - accuracy: 0.9691 - val_loss: 0.3772 - val_accuracy: 0.9062\n",
            "Epoch 81/150\n",
            "160/160 [==============================] - 2s 10ms/step - loss: 0.0707 - accuracy: 0.9744 - val_loss: 0.4426 - val_accuracy: 0.8953\n",
            "Epoch 82/150\n",
            "160/160 [==============================] - 2s 11ms/step - loss: 0.0603 - accuracy: 0.9761 - val_loss: 0.4361 - val_accuracy: 0.9016\n",
            "Epoch 83/150\n",
            "160/160 [==============================] - 2s 10ms/step - loss: 0.0715 - accuracy: 0.9711 - val_loss: 0.4059 - val_accuracy: 0.8922\n",
            "Epoch 84/150\n",
            "160/160 [==============================] - 2s 10ms/step - loss: 0.0751 - accuracy: 0.9689 - val_loss: 0.3719 - val_accuracy: 0.9062\n",
            "Epoch 85/150\n",
            "160/160 [==============================] - 2s 10ms/step - loss: 0.0793 - accuracy: 0.9701 - val_loss: 0.3710 - val_accuracy: 0.9078\n",
            "Epoch 86/150\n",
            "160/160 [==============================] - 2s 10ms/step - loss: 0.0629 - accuracy: 0.9736 - val_loss: 0.4328 - val_accuracy: 0.8938\n",
            "Epoch 87/150\n",
            "160/160 [==============================] - 2s 10ms/step - loss: 0.0620 - accuracy: 0.9746 - val_loss: 0.4217 - val_accuracy: 0.8984\n",
            "Epoch 88/150\n",
            "160/160 [==============================] - 2s 10ms/step - loss: 0.0646 - accuracy: 0.9709 - val_loss: 0.5785 - val_accuracy: 0.8687\n",
            "Epoch 89/150\n",
            "160/160 [==============================] - 2s 10ms/step - loss: 0.0523 - accuracy: 0.9795 - val_loss: 0.5405 - val_accuracy: 0.9000\n",
            "Epoch 90/150\n",
            "160/160 [==============================] - 2s 10ms/step - loss: 0.0705 - accuracy: 0.9707 - val_loss: 0.5532 - val_accuracy: 0.9047\n",
            "Epoch 91/150\n",
            "160/160 [==============================] - 2s 10ms/step - loss: 0.0769 - accuracy: 0.9717 - val_loss: 0.3927 - val_accuracy: 0.8984\n",
            "Epoch 92/150\n",
            "160/160 [==============================] - 2s 10ms/step - loss: 0.0685 - accuracy: 0.9724 - val_loss: 0.4767 - val_accuracy: 0.8891\n",
            "Epoch 93/150\n",
            "160/160 [==============================] - 2s 10ms/step - loss: 0.0722 - accuracy: 0.9722 - val_loss: 0.4512 - val_accuracy: 0.8953\n",
            "Epoch 94/150\n",
            "160/160 [==============================] - 3s 16ms/step - loss: 0.0598 - accuracy: 0.9763 - val_loss: 0.4930 - val_accuracy: 0.8813\n",
            "Epoch 95/150\n",
            "160/160 [==============================] - 2s 10ms/step - loss: 0.0701 - accuracy: 0.9711 - val_loss: 0.5675 - val_accuracy: 0.8859\n",
            "Epoch 96/150\n",
            "160/160 [==============================] - 2s 10ms/step - loss: 0.0653 - accuracy: 0.9752 - val_loss: 0.4793 - val_accuracy: 0.9078\n",
            "Epoch 97/150\n",
            "160/160 [==============================] - 2s 10ms/step - loss: 0.0735 - accuracy: 0.9713 - val_loss: 0.3808 - val_accuracy: 0.9000\n",
            "Epoch 98/150\n",
            "160/160 [==============================] - 2s 10ms/step - loss: 0.0554 - accuracy: 0.9791 - val_loss: 0.5004 - val_accuracy: 0.9016\n",
            "Epoch 99/150\n",
            "160/160 [==============================] - 2s 10ms/step - loss: 0.0642 - accuracy: 0.9746 - val_loss: 0.4041 - val_accuracy: 0.8797\n",
            "Epoch 100/150\n",
            "160/160 [==============================] - 2s 11ms/step - loss: 0.0560 - accuracy: 0.9769 - val_loss: 0.3880 - val_accuracy: 0.8969\n",
            "Epoch 101/150\n",
            "160/160 [==============================] - 2s 10ms/step - loss: 0.0658 - accuracy: 0.9734 - val_loss: 0.3573 - val_accuracy: 0.9047\n",
            "Epoch 102/150\n",
            "160/160 [==============================] - 2s 10ms/step - loss: 0.0547 - accuracy: 0.9791 - val_loss: 0.4758 - val_accuracy: 0.8828\n",
            "Epoch 103/150\n",
            "160/160 [==============================] - 2s 10ms/step - loss: 0.0588 - accuracy: 0.9765 - val_loss: 0.4716 - val_accuracy: 0.9016\n",
            "Epoch 104/150\n",
            "160/160 [==============================] - 2s 10ms/step - loss: 0.0480 - accuracy: 0.9814 - val_loss: 0.4748 - val_accuracy: 0.8984\n",
            "Epoch 105/150\n",
            "160/160 [==============================] - 2s 10ms/step - loss: 0.0580 - accuracy: 0.9754 - val_loss: 0.4212 - val_accuracy: 0.9000\n",
            "Epoch 106/150\n",
            "160/160 [==============================] - 2s 10ms/step - loss: 0.0566 - accuracy: 0.9791 - val_loss: 0.4789 - val_accuracy: 0.8984\n",
            "Epoch 107/150\n",
            "160/160 [==============================] - 2s 10ms/step - loss: 0.0528 - accuracy: 0.9791 - val_loss: 0.5704 - val_accuracy: 0.8875\n",
            "Epoch 108/150\n",
            "160/160 [==============================] - 2s 10ms/step - loss: 0.0562 - accuracy: 0.9789 - val_loss: 0.4537 - val_accuracy: 0.8922\n",
            "Epoch 109/150\n",
            "160/160 [==============================] - 2s 10ms/step - loss: 0.0711 - accuracy: 0.9713 - val_loss: 0.4868 - val_accuracy: 0.8953\n",
            "Epoch 110/150\n",
            "160/160 [==============================] - 2s 10ms/step - loss: 0.0716 - accuracy: 0.9707 - val_loss: 0.3035 - val_accuracy: 0.9125\n",
            "Epoch 111/150\n",
            "160/160 [==============================] - 2s 10ms/step - loss: 0.0413 - accuracy: 0.9844 - val_loss: 0.4133 - val_accuracy: 0.9016\n",
            "Epoch 112/150\n",
            "160/160 [==============================] - 2s 10ms/step - loss: 0.0420 - accuracy: 0.9822 - val_loss: 0.4582 - val_accuracy: 0.9000\n",
            "Epoch 113/150\n",
            "160/160 [==============================] - 2s 10ms/step - loss: 0.0517 - accuracy: 0.9799 - val_loss: 0.3888 - val_accuracy: 0.9031\n",
            "Epoch 114/150\n",
            "160/160 [==============================] - 2s 10ms/step - loss: 0.0424 - accuracy: 0.9842 - val_loss: 0.4608 - val_accuracy: 0.9094\n",
            "Epoch 115/150\n",
            "160/160 [==============================] - 2s 10ms/step - loss: 0.0678 - accuracy: 0.9765 - val_loss: 0.4627 - val_accuracy: 0.8891\n",
            "Epoch 116/150\n",
            "160/160 [==============================] - 2s 10ms/step - loss: 0.0564 - accuracy: 0.9779 - val_loss: 0.4360 - val_accuracy: 0.8859\n",
            "Epoch 117/150\n",
            "160/160 [==============================] - 2s 10ms/step - loss: 0.0484 - accuracy: 0.9816 - val_loss: 0.4318 - val_accuracy: 0.9047\n",
            "Epoch 118/150\n",
            "160/160 [==============================] - 2s 10ms/step - loss: 0.0443 - accuracy: 0.9842 - val_loss: 0.5127 - val_accuracy: 0.8781\n",
            "Epoch 119/150\n",
            "160/160 [==============================] - 2s 10ms/step - loss: 0.0512 - accuracy: 0.9787 - val_loss: 0.6200 - val_accuracy: 0.8875\n",
            "Epoch 120/150\n",
            "160/160 [==============================] - 2s 10ms/step - loss: 0.0535 - accuracy: 0.9801 - val_loss: 0.4418 - val_accuracy: 0.8875\n",
            "Epoch 121/150\n",
            "160/160 [==============================] - 2s 10ms/step - loss: 0.0473 - accuracy: 0.9836 - val_loss: 0.4730 - val_accuracy: 0.8875\n",
            "Epoch 122/150\n",
            "160/160 [==============================] - 2s 10ms/step - loss: 0.0501 - accuracy: 0.9803 - val_loss: 0.4651 - val_accuracy: 0.9000\n",
            "Epoch 123/150\n",
            "160/160 [==============================] - 2s 10ms/step - loss: 0.0517 - accuracy: 0.9797 - val_loss: 0.4405 - val_accuracy: 0.8875\n",
            "Epoch 124/150\n",
            "160/160 [==============================] - 2s 10ms/step - loss: 0.0558 - accuracy: 0.9763 - val_loss: 0.4293 - val_accuracy: 0.8953\n",
            "Epoch 125/150\n",
            "160/160 [==============================] - 2s 10ms/step - loss: 0.0516 - accuracy: 0.9801 - val_loss: 0.4316 - val_accuracy: 0.8875\n",
            "Epoch 126/150\n",
            "160/160 [==============================] - 2s 11ms/step - loss: 0.0486 - accuracy: 0.9812 - val_loss: 0.4334 - val_accuracy: 0.8984\n",
            "Epoch 127/150\n",
            "160/160 [==============================] - 2s 10ms/step - loss: 0.0520 - accuracy: 0.9812 - val_loss: 0.4367 - val_accuracy: 0.8969\n",
            "Epoch 128/150\n",
            "160/160 [==============================] - 2s 10ms/step - loss: 0.0723 - accuracy: 0.9738 - val_loss: 0.3797 - val_accuracy: 0.9062\n",
            "Epoch 129/150\n",
            "160/160 [==============================] - 2s 10ms/step - loss: 0.0407 - accuracy: 0.9842 - val_loss: 0.4412 - val_accuracy: 0.8922\n",
            "Epoch 130/150\n",
            "160/160 [==============================] - 2s 10ms/step - loss: 0.0340 - accuracy: 0.9865 - val_loss: 0.5448 - val_accuracy: 0.9078\n",
            "Epoch 131/150\n",
            "160/160 [==============================] - 2s 10ms/step - loss: 0.0402 - accuracy: 0.9859 - val_loss: 0.4555 - val_accuracy: 0.9094\n",
            "Epoch 132/150\n",
            "160/160 [==============================] - 2s 10ms/step - loss: 0.0396 - accuracy: 0.9853 - val_loss: 0.5843 - val_accuracy: 0.9016\n",
            "Epoch 133/150\n",
            "160/160 [==============================] - 2s 10ms/step - loss: 0.0456 - accuracy: 0.9816 - val_loss: 0.4484 - val_accuracy: 0.9141\n",
            "Epoch 134/150\n",
            "160/160 [==============================] - 2s 10ms/step - loss: 0.0426 - accuracy: 0.9848 - val_loss: 0.4724 - val_accuracy: 0.8953\n",
            "Epoch 135/150\n",
            "160/160 [==============================] - 2s 10ms/step - loss: 0.0512 - accuracy: 0.9822 - val_loss: 0.4169 - val_accuracy: 0.8922\n",
            "Epoch 136/150\n",
            "160/160 [==============================] - 2s 10ms/step - loss: 0.0436 - accuracy: 0.9848 - val_loss: 0.4695 - val_accuracy: 0.9000\n",
            "Epoch 137/150\n",
            "160/160 [==============================] - 2s 11ms/step - loss: 0.0500 - accuracy: 0.9808 - val_loss: 0.4538 - val_accuracy: 0.9047\n",
            "Epoch 138/150\n",
            "160/160 [==============================] - 2s 11ms/step - loss: 0.0425 - accuracy: 0.9824 - val_loss: 0.4352 - val_accuracy: 0.9047\n",
            "Epoch 139/150\n",
            "160/160 [==============================] - 2s 11ms/step - loss: 0.0359 - accuracy: 0.9873 - val_loss: 0.4674 - val_accuracy: 0.9141\n",
            "Epoch 140/150\n",
            "160/160 [==============================] - 2s 10ms/step - loss: 0.0552 - accuracy: 0.9797 - val_loss: 0.5484 - val_accuracy: 0.8984\n",
            "Epoch 141/150\n",
            "160/160 [==============================] - 2s 10ms/step - loss: 0.0386 - accuracy: 0.9851 - val_loss: 0.5395 - val_accuracy: 0.8984\n",
            "Epoch 142/150\n",
            "160/160 [==============================] - 2s 11ms/step - loss: 0.0747 - accuracy: 0.9752 - val_loss: 0.3575 - val_accuracy: 0.9062\n",
            "Epoch 143/150\n",
            "160/160 [==============================] - 2s 10ms/step - loss: 0.0403 - accuracy: 0.9844 - val_loss: 0.4395 - val_accuracy: 0.9016\n",
            "Epoch 144/150\n",
            "160/160 [==============================] - 2s 10ms/step - loss: 0.0331 - accuracy: 0.9896 - val_loss: 0.4925 - val_accuracy: 0.8875\n",
            "Epoch 145/150\n",
            "160/160 [==============================] - 2s 10ms/step - loss: 0.0446 - accuracy: 0.9832 - val_loss: 0.5197 - val_accuracy: 0.8969\n",
            "Epoch 146/150\n",
            "160/160 [==============================] - 2s 10ms/step - loss: 0.0487 - accuracy: 0.9803 - val_loss: 0.4398 - val_accuracy: 0.8953\n",
            "Epoch 147/150\n",
            "160/160 [==============================] - 2s 10ms/step - loss: 0.0411 - accuracy: 0.9840 - val_loss: 0.4226 - val_accuracy: 0.9109\n",
            "Epoch 148/150\n",
            "160/160 [==============================] - 2s 11ms/step - loss: 0.0382 - accuracy: 0.9873 - val_loss: 0.5008 - val_accuracy: 0.9031\n",
            "Epoch 149/150\n",
            "160/160 [==============================] - 2s 10ms/step - loss: 0.0594 - accuracy: 0.9791 - val_loss: 0.4191 - val_accuracy: 0.8813\n",
            "Epoch 150/150\n",
            "160/160 [==============================] - 2s 10ms/step - loss: 0.0407 - accuracy: 0.9855 - val_loss: 0.4148 - val_accuracy: 0.9156\n"
          ]
        }
      ]
    },
    {
      "cell_type": "code",
      "source": [
        "model_fnn.evaluate(X_test, y_test)[1]"
      ],
      "metadata": {
        "colab": {
          "base_uri": "https://localhost:8080/"
        },
        "id": "0a3KXfFCl6HP",
        "outputId": "74b1a786-b044-4dba-caec-a5d6831e7a55"
      },
      "execution_count": null,
      "outputs": [
        {
          "output_type": "stream",
          "name": "stdout",
          "text": [
            "20/20 [==============================] - 0s 3ms/step - loss: 0.4148 - accuracy: 0.9156\n"
          ]
        },
        {
          "output_type": "execute_result",
          "data": {
            "text/plain": [
              "0.9156249761581421"
            ]
          },
          "metadata": {},
          "execution_count": 22
        }
      ]
    },
    {
      "cell_type": "code",
      "source": [
        "import matplotlib.pyplot as plt\n",
        "plt.plot(hist.history['loss'])\n",
        "plt.plot(hist.history['val_loss'])\n",
        "plt.title('Model loss')\n",
        "plt.ylabel('Loss')\n",
        "plt.xlabel('Epoch')\n",
        "plt.legend(['Train', 'Val'], loc='upper right')\n",
        "plt.show()"
      ],
      "metadata": {
        "colab": {
          "base_uri": "https://localhost:8080/",
          "height": 295
        },
        "id": "240KT7AHyL0f",
        "outputId": "eee683ba-e58f-4ae0-ff68-bd3a8ec77416"
      },
      "execution_count": null,
      "outputs": [
        {
          "output_type": "display_data",
          "data": {
            "text/plain": [
              "<Figure size 432x288 with 1 Axes>"
            ],
            "image/png": "[encoded data removed]"
          },
          "metadata": {
            "needs_background": "light"
          }
        }
      ]
    },
    {
      "cell_type": "code",
      "source": [
        "plt.plot(hist.history['accuracy'])\n",
        "plt.plot(hist.history['val_accuracy'])\n",
        "plt.title('Model accuracy')\n",
        "plt.ylabel('Accuracy')\n",
        "plt.xlabel('Epoch')\n",
        "plt.legend(['Train', 'Val'], loc='lower right')\n",
        "plt.show()"
      ],
      "metadata": {
        "colab": {
          "base_uri": "https://localhost:8080/",
          "height": 295
        },
        "id": "1OHKnxIRyZ7z",
        "outputId": "49914ff0-f849-4f83-c400-7407898c532f"
      },
      "execution_count": null,
      "outputs": [
        {
          "output_type": "display_data",
          "data": {
            "text/plain": [
              "<Figure size 432x288 with 1 Axes>"
            ],
            "image/png": "[encoded data removed]"
          },
          "metadata": {
            "needs_background": "light"
          }
        }
      ]
    },
    {
      "cell_type": "code",
      "execution_count": null,
      "metadata": {
        "id": "2aYPv0-9t6mM"
      },
      "outputs": [],
      "source": [
        "def maincode():\n",
        "  #imagePath='/content/drive/MyDrive/dlsip_and_maths/references/1.jpg'\n",
        "  print(\"give student number1-6 :\")\n",
        "  pno= input()\n",
        "  imagePath='/content/drive/MyDrive/dlsip_and_maths/reference_persons/'+str(pno)+'.jpg'\n",
        "  print(imagePath)\n",
        "\n",
        "  mtcnn(imagePath,reference=True)\n",
        "  saving_dir='/content/reference/face_of_the_person.jpg'\n",
        "\n",
        "\n",
        "  #select the folder of images\n",
        "  print(\"enter folder number (1-6): \")\n",
        "  fno= input()\n",
        "  path_of_the_directory='/content/drive/MyDrive/dlsip_and_maths/uncropped/person'+str(fno)\n",
        "  folder_output=[]\n",
        "  referenceorg=get_image_embedding(saving_dir)\n",
        "  features=['f'+str(i) for i in range(2622)]\n",
        "  for filename in os.listdir(path_of_the_directory):\n",
        "    file=os.path.join(path_of_the_directory,filename)\n",
        "    if os.path.isfile(file):\n",
        "      mtcnn(file,reference=False)\n",
        "    all_similirity_scores=[]\n",
        "    for im in os.listdir('/content/faces'):\n",
        "      j=os.path.join('/content/faces',im)\n",
        "      if os.path.isfile(j):\n",
        "        embb=get_image_embedding(j)\n",
        "        dist=triplet_loss(referenceorg,embb)\n",
        "        inp=pd.DataFrame([dist], columns=features)\n",
        "        score=model_fnn.predict(inp)\n",
        "        all_similirity_scores.append(score)\n",
        "    \n",
        "    folder_output.append([filename,max(all_similirity_scores)])\n",
        "    \n",
        "    print(all_similirity_scores)\n",
        "  return folder_output"
      ]
    },
    {
      "cell_type": "code",
      "source": [
        "while(1):\n",
        "  print(maincode())\n",
        "  if not(int(input('enter 0 to quit'))):\n",
        "    break\n",
        "\n"
      ],
      "metadata": {
        "colab": {
          "base_uri": "https://localhost:8080/"
        },
        "id": "AN5ZQrIqxHuG",
        "outputId": "21ed4e7a-1cd6-407b-d779-711586752f6d"
      },
      "execution_count": null,
      "outputs": [
        {
          "name": "stdout",
          "output_type": "stream",
          "text": [
            "give student number1-6 :\n",
            "1\n",
            "/content/drive/MyDrive/dlsip_and_maths/reference_persons/1.jpg\n",
            "[INFO] Found 1 Faces.\n",
            "file saved at /content/reference/face_of_the_person.jpg\n",
            "[INFO] Image faces_detected.jpg written to filesystem:  True\n",
            "enter folder number (1-6): \n",
            "1\n",
            "[INFO] Found 6 Faces.\n",
            "[INFO] Object found. Saving locally.\n",
            "[INFO] Object found. Saving locally.\n",
            "[INFO] Object found. Saving locally.\n",
            "[INFO] Object found. Saving locally.\n",
            "[INFO] Object found. Saving locally.\n",
            "[INFO] Object found. Saving locally.\n",
            "[INFO] Image faces_detected.jpg written to filesystem:  True\n",
            "[array([[4.68366e-28]], dtype=float32), array([[3.8486956e-19]], dtype=float32), array([[0.99958414]], dtype=float32), array([[1.0110446e-05]], dtype=float32), array([[6.996675e-06]], dtype=float32), array([[1.384578e-08]], dtype=float32)]\n",
            "[INFO] Found 7 Faces.\n",
            "[INFO] Object found. Saving locally.\n",
            "[INFO] Object found. Saving locally.\n",
            "[INFO] Object found. Saving locally.\n",
            "[INFO] Object found. Saving locally.\n",
            "[INFO] Object found. Saving locally.\n",
            "[INFO] Object found. Saving locally.\n",
            "[INFO] Object found. Saving locally.\n",
            "[INFO] Image faces_detected.jpg written to filesystem:  True\n",
            "[array([[2.7103556e-06]], dtype=float32), array([[2.5018444e-08]], dtype=float32), array([[1.1853259e-06]], dtype=float32), array([[4.0105105e-10]], dtype=float32), array([[1.9295167e-05]], dtype=float32), array([[7.579691e-06]], dtype=float32), array([[0.99935335]], dtype=float32)]\n",
            "[INFO] Found 2 Faces.\n",
            "[INFO] Object found. Saving locally.\n",
            "[INFO] Object found. Saving locally.\n",
            "[INFO] Image faces_detected.jpg written to filesystem:  True\n",
            "[array([[1.]], dtype=float32), array([[5.0507853e-10]], dtype=float32)]\n",
            "[INFO] Found 6 Faces.\n",
            "[INFO] Object found. Saving locally.\n",
            "[INFO] Object found. Saving locally.\n",
            "[INFO] Object found. Saving locally.\n",
            "[INFO] Object found. Saving locally.\n",
            "[INFO] Object found. Saving locally.\n",
            "[INFO] Object found. Saving locally.\n",
            "[INFO] Image faces_detected.jpg written to filesystem:  True\n",
            "[array([[4.7253386e-07]], dtype=float32), array([[5.142745e-06]], dtype=float32), array([[0.]], dtype=float32), array([[7.054913e-06]], dtype=float32), array([[4.0093664e-16]], dtype=float32), array([[0.98234826]], dtype=float32)]\n",
            "[INFO] Found 6 Faces.\n",
            "[INFO] Object found. Saving locally.\n",
            "[INFO] Object found. Saving locally.\n",
            "[INFO] Object found. Saving locally.\n",
            "[INFO] Object found. Saving locally.\n",
            "[INFO] Object found. Saving locally.\n",
            "[INFO] Object found. Saving locally.\n",
            "[INFO] Image faces_detected.jpg written to filesystem:  True\n",
            "[array([[1.5822278e-06]], dtype=float32), array([[1.9050121e-07]], dtype=float32), array([[0.8781454]], dtype=float32), array([[6.648751e-06]], dtype=float32), array([[8.48967e-06]], dtype=float32), array([[3.3466603e-07]], dtype=float32)]\n",
            "[INFO] Found 9 Faces.\n",
            "[INFO] Object found. Saving locally.\n",
            "[INFO] Object found. Saving locally.\n",
            "[INFO] Object found. Saving locally.\n",
            "[INFO] Object found. Saving locally.\n",
            "[INFO] Object found. Saving locally.\n",
            "[INFO] Object found. Saving locally.\n",
            "[INFO] Object found. Saving locally.\n",
            "[INFO] Object found. Saving locally.\n",
            "[INFO] Object found. Saving locally.\n",
            "[INFO] Image faces_detected.jpg written to filesystem:  True\n",
            "[array([[8.2752804e-13]], dtype=float32), array([[1.1837817e-06]], dtype=float32), array([[7.32523e-24]], dtype=float32), array([[4.0914446e-07]], dtype=float32), array([[6.986601e-08]], dtype=float32), array([[1.481318e-24]], dtype=float32), array([[1.5385385e-07]], dtype=float32), array([[4.1447206e-06]], dtype=float32), array([[0.]], dtype=float32)]\n",
            "[INFO] Found 22 Faces.\n",
            "[INFO] Object found. Saving locally.\n",
            "[INFO] Object found. Saving locally.\n",
            "[INFO] Object found. Saving locally.\n",
            "[INFO] Object found. Saving locally.\n",
            "[INFO] Object found. Saving locally.\n",
            "[INFO] Object found. Saving locally.\n",
            "[INFO] Object found. Saving locally.\n",
            "[INFO] Object found. Saving locally.\n",
            "[INFO] Object found. Saving locally.\n",
            "[INFO] Object found. Saving locally.\n",
            "[INFO] Object found. Saving locally.\n",
            "[INFO] Object found. Saving locally.\n",
            "[INFO] Object found. Saving locally.\n",
            "[INFO] Object found. Saving locally.\n",
            "[INFO] Object found. Saving locally.\n",
            "[INFO] Object found. Saving locally.\n",
            "[INFO] Object found. Saving locally.\n",
            "[INFO] Object found. Saving locally.\n",
            "[INFO] Object found. Saving locally.\n",
            "[INFO] Object found. Saving locally.\n",
            "[INFO] Object found. Saving locally.\n",
            "[INFO] Object found. Saving locally.\n",
            "[INFO] Image faces_detected.jpg written to filesystem:  True\n",
            "[array([[2.8327915e-07]], dtype=float32), array([[6.284653e-10]], dtype=float32), array([[2.110669e-12]], dtype=float32), array([[0.00014516]], dtype=float32), array([[1.3024556e-05]], dtype=float32), array([[0.00679085]], dtype=float32), array([[4.276838e-06]], dtype=float32), array([[8.607433e-15]], dtype=float32), array([[3.5413854e-09]], dtype=float32), array([[2.4575983e-16]], dtype=float32), array([[2.773754e-06]], dtype=float32), array([[4.5514894e-09]], dtype=float32), array([[5.75148e-06]], dtype=float32), array([[0.]], dtype=float32), array([[1.]], dtype=float32), array([[2.6191947e-06]], dtype=float32), array([[4.162699e-28]], dtype=float32), array([[1.4747841e-15]], dtype=float32), array([[2.5767898e-23]], dtype=float32), array([[1.6706199e-08]], dtype=float32), array([[0.9999918]], dtype=float32), array([[5.7628824e-07]], dtype=float32)]\n",
            "[INFO] Found 4 Faces.\n",
            "[INFO] Object found. Saving locally.\n",
            "[INFO] Object found. Saving locally.\n",
            "[INFO] Object found. Saving locally.\n",
            "[INFO] Object found. Saving locally.\n",
            "[INFO] Image faces_detected.jpg written to filesystem:  True\n",
            "[array([[0.99951684]], dtype=float32), array([[3.666377e-11]], dtype=float32), array([[1.]], dtype=float32), array([[8.0412954e-24]], dtype=float32)]\n",
            "[INFO] Found 5 Faces.\n",
            "[INFO] Object found. Saving locally.\n",
            "[INFO] Object found. Saving locally.\n",
            "[INFO] Object found. Saving locally.\n",
            "[INFO] Object found. Saving locally.\n",
            "[INFO] Object found. Saving locally.\n",
            "[INFO] Image faces_detected.jpg written to filesystem:  True\n",
            "[array([[0.]], dtype=float32), array([[4.5313836e-06]], dtype=float32), array([[9.261375e-08]], dtype=float32), array([[0.99971217]], dtype=float32), array([[3.975981e-06]], dtype=float32)]\n",
            "[INFO] Found 5 Faces.\n",
            "[INFO] Object found. Saving locally.\n",
            "[INFO] Object found. Saving locally.\n",
            "[INFO] Object found. Saving locally.\n",
            "[INFO] Object found. Saving locally.\n",
            "[INFO] Object found. Saving locally.\n",
            "[INFO] Image faces_detected.jpg written to filesystem:  True\n",
            "[array([[0.00682445]], dtype=float32), array([[3.341116e-06]], dtype=float32), array([[1.7404172e-06]], dtype=float32), array([[0.9992544]], dtype=float32), array([[2.376182e-06]], dtype=float32)]\n",
            "[INFO] Found 5 Faces.\n",
            "[INFO] Object found. Saving locally.\n",
            "[INFO] Object found. Saving locally.\n",
            "[INFO] Object found. Saving locally.\n",
            "[INFO] Object found. Saving locally.\n",
            "[INFO] Object found. Saving locally.\n",
            "[INFO] Image faces_detected.jpg written to filesystem:  True\n",
            "[array([[1.94098e-37]], dtype=float32), array([[7.168731e-06]], dtype=float32), array([[2.8845673e-13]], dtype=float32), array([[1.2642608e-11]], dtype=float32), array([[2.1938883e-06]], dtype=float32)]\n",
            "[INFO] Found 3 Faces.\n",
            "[INFO] Object found. Saving locally.\n",
            "[INFO] Object found. Saving locally.\n",
            "[INFO] Object found. Saving locally.\n",
            "[INFO] Image faces_detected.jpg written to filesystem:  True\n",
            "[array([[0.9996257]], dtype=float32), array([[3.6321385e-06]], dtype=float32), array([[2.1189071e-11]], dtype=float32)]\n",
            "[INFO] Found 5 Faces.\n",
            "[INFO] Object found. Saving locally.\n",
            "[INFO] Object found. Saving locally.\n",
            "[INFO] Object found. Saving locally.\n",
            "[INFO] Object found. Saving locally.\n",
            "[INFO] Object found. Saving locally.\n",
            "[INFO] Image faces_detected.jpg written to filesystem:  True\n",
            "[array([[3.881035e-30]], dtype=float32), array([[1.6449075e-23]], dtype=float32), array([[6.780053e-10]], dtype=float32), array([[2.6045979e-07]], dtype=float32), array([[7.638985e-10]], dtype=float32)]\n",
            "[INFO] Found 3 Faces.\n",
            "[INFO] Object found. Saving locally.\n",
            "[INFO] Object found. Saving locally.\n",
            "[INFO] Object found. Saving locally.\n",
            "[INFO] Image faces_detected.jpg written to filesystem:  True\n",
            "[array([[0.]], dtype=float32), array([[0.9773536]], dtype=float32), array([[0.]], dtype=float32)]\n",
            "[INFO] Found 5 Faces.\n",
            "[INFO] Object found. Saving locally.\n",
            "[INFO] Object found. Saving locally.\n",
            "[INFO] Object found. Saving locally.\n",
            "[INFO] Object found. Saving locally.\n",
            "[INFO] Object found. Saving locally.\n",
            "[INFO] Image faces_detected.jpg written to filesystem:  True\n",
            "[array([[1.855523e-25]], dtype=float32), array([[2.0413445e-05]], dtype=float32), array([[1.2971686e-14]], dtype=float32), array([[1.4120929e-24]], dtype=float32), array([[5.0088226e-14]], dtype=float32)]\n",
            "[INFO] Found 2 Faces.\n",
            "[INFO] Object found. Saving locally.\n",
            "[INFO] Object found. Saving locally.\n",
            "[INFO] Image faces_detected.jpg written to filesystem:  True\n",
            "[array([[0.9996306]], dtype=float32), array([[2.1121177e-17]], dtype=float32)]\n",
            "[INFO] Found 3 Faces.\n",
            "[INFO] Object found. Saving locally.\n",
            "[INFO] Object found. Saving locally.\n",
            "[INFO] Object found. Saving locally.\n",
            "[INFO] Image faces_detected.jpg written to filesystem:  True\n",
            "[array([[1.1339367e-09]], dtype=float32), array([[0.9860633]], dtype=float32), array([[1.1529211e-13]], dtype=float32)]\n",
            "[['IMG_5731.jpg', array([[0.99958414]], dtype=float32)], ['IMG_5732.jpg', array([[0.99935335]], dtype=float32)], ['IMG_9631.jpg', array([[1.]], dtype=float32)], ['IMG_20211229_100722.jpg', array([[0.98234826]], dtype=float32)], ['IMG_5728.jpg', array([[0.8781454]], dtype=float32)], ['IMG_9602.jpg', array([[4.1447206e-06]], dtype=float32)], ['IMG_5689.jpg', array([[1.]], dtype=float32)], ['IMG_9618.jpg', array([[1.]], dtype=float32)], ['IMG_20211229_101448.jpg', array([[0.99971217]], dtype=float32)], ['IMG_20211229_100443.jpg', array([[0.9992544]], dtype=float32)], ['IMG_9592.jpg', array([[7.168731e-06]], dtype=float32)], ['IMG_9617.jpg', array([[0.9996257]], dtype=float32)], ['IMG_9595.jpg', array([[2.6045979e-07]], dtype=float32)], ['IMG_9665.jpg', array([[0.9773536]], dtype=float32)], ['IMG_6924.jpg', array([[2.0413445e-05]], dtype=float32)], ['IMG_9583.jpg', array([[0.9996306]], dtype=float32)], ['IMG_9589.jpg', array([[0.9860633]], dtype=float32)]]\n",
            "enter 0 to quit0\n"
          ]
        }
      ]
    },
    {
      "cell_type": "code",
      "source": [
        "vec=get_image_embedding('/content/faces/detected_faces1.jpg')\n",
        "print('no.of features form each image: ',len(vec))"
      ],
      "metadata": {
        "colab": {
          "base_uri": "https://localhost:8080/"
        },
        "id": "a1LcsnmXeqVA",
        "outputId": "14c2675a-2c61-4103-f9eb-4910a9365249"
      },
      "execution_count": null,
      "outputs": [
        {
          "output_type": "stream",
          "name": "stdout",
          "text": [
            "no.of features form each image:  2622\n"
          ]
        }
      ]
    }
  ]
}